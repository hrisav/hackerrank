{
  "nbformat": 4,
  "nbformat_minor": 0,
  "metadata": {
    "colab": {
      "name": "ALG01_Forming A Magic Square.ipynb",
      "provenance": [],
      "collapsed_sections": []
    },
    "kernelspec": {
      "name": "python3",
      "display_name": "Python 3"
    },
    "language_info": {
      "name": "python"
    }
  },
  "cells": [
    {
      "cell_type": "markdown",
      "source": [
        "Problem Link\n",
        "\n",
        "https://www.hackerrank.com/challenges/magic-square-forming/problem"
      ],
      "metadata": {
        "id": "dzlz0prazvy2"
      }
    },
    {
      "cell_type": "code",
      "source": [
        "#!/bin/python3\n",
        "\n",
        "import math\n",
        "import os\n",
        "import random\n",
        "import re\n",
        "import sys\n",
        "\n",
        "#\n",
        "# Complete the 'formingMagicSquare' function below.\n",
        "#\n",
        "# The function is expected to return an INTEGER.\n",
        "# The function accepts 2D_INTEGER_ARRAY s as parameter.\n",
        "#\n",
        "\n",
        "def formingMagicSquare(s):\n",
        "    # Write your code here\n",
        "    print(s)\n",
        "    total = []\n",
        "    # noting down all magic squares\n",
        "    mag_sqrs = [\n",
        "                [[8, 1, 6], [3, 5, 7], [4, 9, 2]],\n",
        "                [[6, 1, 8], [7, 5, 3], [2, 9, 4]],\n",
        "                [[4, 9, 2], [3, 5, 7], [8, 1, 6]],\n",
        "                [[2, 9, 4], [7, 5, 3], [6, 1, 8]], \n",
        "                [[8, 3, 4], [1, 5, 9], [6, 7, 2]],\n",
        "                [[4, 3, 8], [9, 5, 1], [2, 7, 6]], \n",
        "                [[6, 7, 2], [1, 5, 9], [8, 3, 4]], \n",
        "                [[2, 7, 6], [9, 5, 1], [4, 3, 8]],\n",
        "                ]\n",
        "    for mag_sqr in mag_sqrs:                          \n",
        "        fin_sum = 0\n",
        "        for row_mag, row_s in zip(mag_sqr, s):      # tally user input matrix with each predefined matrix\n",
        "            for i, j in zip(row_mag, row_s):\n",
        "                if i != j:                          # find difference if elements dont match\n",
        "                    diff = max(i,j)-min(i,j)\n",
        "                    fin_sum += diff\n",
        "        total.append(fin_sum)\n",
        "    return min(total)\n",
        "\n",
        "if __name__ == '__main__':\n",
        "    fptr = open(os.environ['OUTPUT_PATH'], 'w')\n",
        "\n",
        "    s = []\n",
        "\n",
        "    for _ in range(3):\n",
        "        s.append(list(map(int, input().rstrip().split())))\n",
        "\n",
        "    result = formingMagicSquare(s)\n",
        "\n",
        "    fptr.write(str(result) + '\\n')\n",
        "\n",
        "    fptr.close()"
      ],
      "metadata": {
        "id": "b-3k7a58z4ap"
      },
      "execution_count": null,
      "outputs": []
    },
    {
      "cell_type": "code",
      "source": [
        "# other's solution\n",
        "\n",
        "def countingValleys(steps, path):\n",
        "    seaLevel = valley = 0\n",
        "\n",
        "    for i in path:\n",
        "        if i == 'U':\n",
        "            seaLevel += 1\n",
        "        else:\n",
        "            seaLevel -= 1\n",
        "        \n",
        "        if i == 'U' and seaLevel == 0:\n",
        "            valley += 1\n",
        "    \n",
        "    return valley"
      ],
      "metadata": {
        "id": "fcFBAF-yfX-2"
      },
      "execution_count": null,
      "outputs": []
    }
  ]
}