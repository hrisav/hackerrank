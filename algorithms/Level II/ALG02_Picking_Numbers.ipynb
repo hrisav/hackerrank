{
  "nbformat": 4,
  "nbformat_minor": 0,
  "metadata": {
    "colab": {
      "name": "ALG02_Picking Numbers.ipynb",
      "provenance": [],
      "collapsed_sections": []
    },
    "kernelspec": {
      "name": "python3",
      "display_name": "Python 3"
    },
    "language_info": {
      "name": "python"
    }
  },
  "cells": [
    {
      "cell_type": "markdown",
      "source": [
        "Problem Link\n",
        "\n",
        "https://www.hackerrank.com/challenges/picking-numbers/problem"
      ],
      "metadata": {
        "id": "dzlz0prazvy2"
      }
    },
    {
      "cell_type": "code",
      "source": [
        "#!/bin/python3\n",
        "\n",
        "import math\n",
        "import os\n",
        "import random\n",
        "import re\n",
        "import sys\n",
        "\n",
        "#\n",
        "# Complete the 'pickingNumbers' function below.\n",
        "#\n",
        "# The function is expected to return an INTEGER.\n",
        "# The function accepts INTEGER_ARRAY a as parameter.\n",
        "#\n",
        "\n",
        "def pickingNumbers(a):                    # 1,1,2,2,4,4,5,5,5\n",
        "    # Write your code here\n",
        "    a.sort()\n",
        "    set_a = set(a)\n",
        "    set_a = sorted(set_a)\n",
        "    list_a = [i for i in set_a]\n",
        "    final_list = []\n",
        "    final_list_upd = []\n",
        "    temp_count = []\n",
        "    \n",
        "    for i in range(len(list_a)):          # making like [[1,2],[1,4],[1,5],[2,4],[2,5],[4,5]]\n",
        "        for j in range(i+1,len(list_a)):\n",
        "            final_list.append([list_a[i], list_a[j]])\n",
        "\n",
        "    for i in final_list:                  # [[1,2], [4,5]]\n",
        "        if i[1] == i[0]+1:\n",
        "            final_list_upd.append(i)\n",
        " \n",
        "    for i in final_list_upd:              # counting matches\n",
        "        temp = []\n",
        "        for j in a:\n",
        "            if j in i:\n",
        "                temp.append(j)\n",
        "        temp_count.append(len(temp))\n",
        "        \n",
        "    for i in list_a:                  # counting appearance for each element\n",
        "        count = 0\n",
        "        for j in a:\n",
        "            if i==j:\n",
        "                count+=1\n",
        "        temp_count.append(count)\n",
        "    print(temp_count)\n",
        "    return max(temp_count)\n",
        "\n",
        "if __name__ == '__main__':\n",
        "    fptr = open(os.environ['OUTPUT_PATH'], 'w')\n",
        "\n",
        "    n = int(input().strip())\n",
        "\n",
        "    a = list(map(int, input().rstrip().split()))\n",
        "\n",
        "    result = pickingNumbers(a)\n",
        "\n",
        "    fptr.write(str(result) + '\\n')\n",
        "\n",
        "    fptr.close()"
      ],
      "metadata": {
        "id": "b-3k7a58z4ap"
      },
      "execution_count": null,
      "outputs": []
    },
    {
      "cell_type": "code",
      "source": [
        "# other's solution\n",
        "\n",
        "n=int(input())\n",
        "l=[int(i) for i in input().split()]\n",
        "maximum=0\n",
        "for i in l:\n",
        "    c=l.count(i)\n",
        "    d=l.count(i-1)\n",
        "    c=c+d\n",
        "    if c > maximum:\n",
        "        maximum=c\n",
        "print(maximum)"
      ],
      "metadata": {
        "id": "R4jP49NvoUtF"
      },
      "execution_count": null,
      "outputs": []
    }
  ]
}