{
  "nbformat": 4,
  "nbformat_minor": 0,
  "metadata": {
    "colab": {
      "name": "ALG03_Climbing The Leaderboard.ipynb",
      "provenance": [],
      "collapsed_sections": []
    },
    "kernelspec": {
      "name": "python3",
      "display_name": "Python 3"
    },
    "language_info": {
      "name": "python"
    }
  },
  "cells": [
    {
      "cell_type": "markdown",
      "source": [
        "Problem Link\n",
        "\n",
        "https://www.hackerrank.com/challenges/climbing-the-leaderboard/problem"
      ],
      "metadata": {
        "id": "dzlz0prazvy2"
      }
    },
    {
      "cell_type": "code",
      "source": [
        "#!/bin/python3\n",
        "\n",
        "import math\n",
        "import os\n",
        "import random\n",
        "import re\n",
        "import sys\n",
        "\n",
        "#\n",
        "# Complete the 'climbingLeaderboard' function below.\n",
        "#\n",
        "# The function is expected to return an INTEGER_ARRAY.\n",
        "# The function accepts following parameters:\n",
        "#  1. INTEGER_ARRAY ranked\n",
        "#  2. INTEGER_ARRAY player\n",
        "#\n",
        "\n",
        "def climbingLeaderboard(ranked, player):\n",
        "    # Write your code here                                # sorting to tackle timeout issue\n",
        "    ranked = sorted(list(set(ranked)), reverse=True)      # removing duplicates, sort descending\n",
        "    player.sort(reverse=True)                             # player scores in descending\n",
        "    res = []\n",
        "    pos = 0\n",
        "    print(ranked, player)\n",
        "    for i in range(len(player)):\n",
        "        while pos<len(ranked) and player[i]<ranked[pos]:  # compare scores if it is lesser update pos\n",
        "            pos+=1\n",
        "        res.append(pos+1)\n",
        "    return res[::-1]                                      # reverse array\n",
        "\n",
        "if __name__ == '__main__':\n",
        "    fptr = open(os.environ['OUTPUT_PATH'], 'w')\n",
        "\n",
        "    ranked_count = int(input().strip())\n",
        "\n",
        "    ranked = list(map(int, input().rstrip().split()))\n",
        "\n",
        "    player_count = int(input().strip())\n",
        "\n",
        "    player = list(map(int, input().rstrip().split()))\n",
        "\n",
        "    result = climbingLeaderboard(ranked, player)\n",
        "\n",
        "    fptr.write('\\n'.join(map(str, result)))\n",
        "    fptr.write('\\n')\n",
        "\n",
        "    fptr.close()"
      ],
      "metadata": {
        "id": "b-3k7a58z4ap"
      },
      "execution_count": null,
      "outputs": []
    }
  ]
}