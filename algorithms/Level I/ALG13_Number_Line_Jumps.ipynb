{
  "nbformat": 4,
  "nbformat_minor": 0,
  "metadata": {
    "colab": {
      "name": "ALG13_Number_Line_Jumps.ipynb",
      "provenance": [],
      "collapsed_sections": []
    },
    "kernelspec": {
      "name": "python3",
      "display_name": "Python 3"
    },
    "language_info": {
      "name": "python"
    }
  },
  "cells": [
    {
      "cell_type": "markdown",
      "metadata": {
        "id": "dfs6P8nVxoDt"
      },
      "source": [
        "Problem Link\n",
        "\n",
        "https://www.hackerrank.com/challenges/kangaroo/problem"
      ]
    },
    {
      "cell_type": "markdown",
      "metadata": {
        "id": "VfvZPQ0SOz1C"
      },
      "source": [
        "![](https://drive.google.com/uc?id=1Zwf90HZ43FOWc4wpjShc9nzfwYrwgJjW)"
      ]
    },
    {
      "cell_type": "markdown",
      "metadata": {
        "id": "zTxRg_HvO49F"
      },
      "source": [
        "![](https://drive.google.com/uc?id=10xsdiNwP9VkFyeFDvN07RE8qkuDTrFf_)"
      ]
    },
    {
      "cell_type": "markdown",
      "metadata": {
        "id": "kK_drW_vO-kX"
      },
      "source": [
        "![](https://drive.google.com/uc?id=14_2aEcYimcNwuQdPTXEcpXwX91em7EuM)"
      ]
    },
    {
      "cell_type": "markdown",
      "metadata": {
        "id": "ZwmmpENTEk2u"
      },
      "source": [
        "## My Solution"
      ]
    },
    {
      "cell_type": "code",
      "metadata": {
        "id": "72KSzMMOLILy"
      },
      "source": [
        "#!/bin/python3\n",
        "\n",
        "import math\n",
        "import os\n",
        "import random\n",
        "import re\n",
        "import sys\n",
        "\n",
        "#\n",
        "# Complete the 'kangaroo' function below.\n",
        "#\n",
        "# The function is expected to return a STRING.\n",
        "# The function accepts following parameters:\n",
        "#  1. INTEGER x1\n",
        "#  2. INTEGER v1\n",
        "#  3. INTEGER x2\n",
        "#  4. INTEGER v2\n",
        "#\n",
        "\n",
        "def kangaroo(x1, v1, x2, v2):\n",
        "    # Write your code here\n",
        "    flag=\"NO\"\n",
        "    if (v1<=v2) or (x1>=x2):\n",
        "        return flag\n",
        "    elif (x1 - x2) % (v2 - v1) == 0:\n",
        "        flag=\"YES\"\n",
        "    return flag\n",
        "\n",
        "if __name__ == '__main__':\n",
        "    fptr = open(os.environ['OUTPUT_PATH'], 'w')\n",
        "\n",
        "    first_multiple_input = input().rstrip().split()\n",
        "\n",
        "    x1 = int(first_multiple_input[0])\n",
        "\n",
        "    v1 = int(first_multiple_input[1])\n",
        "\n",
        "    x2 = int(first_multiple_input[2])\n",
        "\n",
        "    v2 = int(first_multiple_input[3])\n",
        "\n",
        "    result = kangaroo(x1, v1, x2, v2)\n",
        "\n",
        "    fptr.write(result + '\\n')\n",
        "\n",
        "    fptr.close()\n"
      ],
      "execution_count": null,
      "outputs": []
    }
  ]
}