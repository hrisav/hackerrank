{
  "nbformat": 4,
  "nbformat_minor": 0,
  "metadata": {
    "colab": {
      "name": "ALG30_Beautiful Days At The Movies.ipynb",
      "provenance": [],
      "collapsed_sections": []
    },
    "kernelspec": {
      "name": "python3",
      "display_name": "Python 3"
    },
    "language_info": {
      "name": "python"
    }
  },
  "cells": [
    {
      "cell_type": "markdown",
      "source": [
        "Problem Link\n",
        "\n",
        "https://www.hackerrank.com/challenges/beautiful-days-at-the-movies/problem"
      ],
      "metadata": {
        "id": "dzlz0prazvy2"
      }
    },
    {
      "cell_type": "code",
      "source": [
        "#!/bin/python3\n",
        "\n",
        "import math\n",
        "import os\n",
        "import random\n",
        "import re\n",
        "import sys\n",
        "\n",
        "#\n",
        "# Complete the 'beautifulDays' function below.\n",
        "#\n",
        "# The function is expected to return an INTEGER.\n",
        "# The function accepts following parameters:\n",
        "#  1. INTEGER i\n",
        "#  2. INTEGER j\n",
        "#  3. INTEGER k\n",
        "#\n",
        "\n",
        "def beautifulDays(i, j, k):\n",
        "    # Write your code here\n",
        "    checker = 0\n",
        "    for num in range(i, j+1):\n",
        "        num_copy = num\n",
        "        rev_num = 0\n",
        "        while num_copy!=0:\n",
        "            rem = num_copy%10\n",
        "            rev_num = rev_num*10+rem\n",
        "            num_copy = num_copy//10\n",
        "        res = abs(num-rev_num)/k \n",
        "        if res.is_integer():\n",
        "            checker+=1\n",
        "    return checker\n",
        "\n",
        "if __name__ == '__main__':\n",
        "    fptr = open(os.environ['OUTPUT_PATH'], 'w')\n",
        "\n",
        "    first_multiple_input = input().rstrip().split()\n",
        "\n",
        "    i = int(first_multiple_input[0])\n",
        "\n",
        "    j = int(first_multiple_input[1])\n",
        "\n",
        "    k = int(first_multiple_input[2])\n",
        "\n",
        "    result = beautifulDays(i, j, k)\n",
        "\n",
        "    fptr.write(str(result) + '\\n')\n",
        "\n",
        "    fptr.close()"
      ],
      "metadata": {
        "id": "b-3k7a58z4ap"
      },
      "execution_count": null,
      "outputs": []
    },
    {
      "cell_type": "code",
      "source": [
        "## other's solution\n",
        "\n",
        "i,j,k = [int(x) for x in input().split()]\n",
        "count = 0\n",
        "for x in range(i,j+1):\n",
        "    if (x - int(str(x)[::-1])) % k == 0:\n",
        "        count += 1\n",
        "print(count)"
      ],
      "metadata": {
        "id": "kCntGoWm1JtF"
      },
      "execution_count": null,
      "outputs": []
    }
  ]
}