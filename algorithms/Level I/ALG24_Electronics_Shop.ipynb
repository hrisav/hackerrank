{
  "nbformat": 4,
  "nbformat_minor": 0,
  "metadata": {
    "colab": {
      "name": "ALG24_Electronics Shop.ipynb",
      "provenance": [],
      "collapsed_sections": []
    },
    "kernelspec": {
      "name": "python3",
      "display_name": "Python 3"
    },
    "language_info": {
      "name": "python"
    }
  },
  "cells": [
    {
      "cell_type": "markdown",
      "source": [
        "Problem Link\n",
        "\n",
        "https://www.hackerrank.com/challenges/electronics-shop/problem"
      ],
      "metadata": {
        "id": "dzlz0prazvy2"
      }
    },
    {
      "cell_type": "code",
      "source": [
        "#!/bin/python3\n",
        "\n",
        "import os\n",
        "import sys\n",
        "\n",
        "#\n",
        "# Complete the getMoneySpent function below.\n",
        "#\n",
        "def getMoneySpent(keyboards, drives, b):\n",
        "    #\n",
        "    # Write your code here.\n",
        "    #\n",
        "    combo = []\n",
        "    flag = -1\n",
        "    for i in keyboards:\n",
        "        for j in drives:\n",
        "            combo.append(i+j)\n",
        "    combo.sort(reverse=True)\n",
        "    for i in combo:\n",
        "        if i<=b:\n",
        "            flag = i\n",
        "            break\n",
        "    return flag\n",
        "\n",
        "if __name__ == '__main__':\n",
        "    fptr = open(os.environ['OUTPUT_PATH'], 'w')\n",
        "\n",
        "    bnm = input().split()\n",
        "\n",
        "    b = int(bnm[0])\n",
        "\n",
        "    n = int(bnm[1])\n",
        "\n",
        "    m = int(bnm[2])\n",
        "\n",
        "    keyboards = list(map(int, input().rstrip().split()))\n",
        "\n",
        "    drives = list(map(int, input().rstrip().split()))\n",
        "\n",
        "    #\n",
        "    # The maximum amount of money she can spend on a keyboard and USB drive, or -1 if she can't purchase both items\n",
        "    #\n",
        "\n",
        "    moneySpent = getMoneySpent(keyboards, drives, b)\n",
        "\n",
        "    fptr.write(str(moneySpent) + '\\n')\n",
        "\n",
        "    fptr.close()"
      ],
      "metadata": {
        "id": "b-3k7a58z4ap"
      },
      "execution_count": null,
      "outputs": []
    },
    {
      "cell_type": "code",
      "source": [
        "# other's solution\n",
        "\n",
        "def getMoneySpent(keyboards, drives, b):\n",
        "    l = []\n",
        "    for x in keyboards:\n",
        "        for y in drives:\n",
        "            if x+y <= b:\n",
        "                l.append(x+y)\n",
        "    if not l:\n",
        "        return -1\n",
        "    else:\n",
        "        return max(l)"
      ],
      "metadata": {
        "id": "fcFBAF-yfX-2"
      },
      "execution_count": null,
      "outputs": []
    }
  ]
}