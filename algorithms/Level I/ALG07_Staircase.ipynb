{
  "nbformat": 4,
  "nbformat_minor": 0,
  "metadata": {
    "colab": {
      "name": "ALG07_Staircase.ipynb",
      "provenance": [],
      "collapsed_sections": []
    },
    "kernelspec": {
      "name": "python3",
      "display_name": "Python 3"
    },
    "language_info": {
      "name": "python"
    }
  },
  "cells": [
    {
      "cell_type": "markdown",
      "metadata": {
        "id": "dfs6P8nVxoDt"
      },
      "source": [
        "Problem Link\n",
        "\n",
        "https://www.hackerrank.com/challenges/staircase/problem"
      ]
    },
    {
      "cell_type": "markdown",
      "metadata": {
        "id": "Tw7tVyxejKw2"
      },
      "source": [
        "![](https://drive.google.com/uc?id=1Dc_qLH0CiVT0xR7HpAuMtwc6WS9nbdu6)"
      ]
    },
    {
      "cell_type": "markdown",
      "metadata": {
        "id": "YzBewYrLjS03"
      },
      "source": [
        "![](https://drive.google.com/uc?id=110NxTY-Ym7NfmYuC4Q-bAAZYUmYi7qrE)"
      ]
    },
    {
      "cell_type": "code",
      "metadata": {
        "id": "72KSzMMOLILy"
      },
      "source": [
        "#!/bin/python3\n",
        "\n",
        "import math\n",
        "import os\n",
        "import random\n",
        "import re\n",
        "import sys\n",
        "\n",
        "#\n",
        "# Complete the 'staircase' function below.\n",
        "#\n",
        "# The function accepts INTEGER n as parameter.\n",
        "#\n",
        "\n",
        "def staircase(n):\n",
        "    # Write your code here\n",
        "    for i in range(1,n+1):\n",
        "        str = '#'*i\n",
        "        print(str.rjust(n))\n",
        "\n",
        "if __name__ == '__main__':\n",
        "    n = int(input().strip())\n",
        "\n",
        "    staircase(n)\n"
      ],
      "execution_count": null,
      "outputs": []
    }
  ]
}