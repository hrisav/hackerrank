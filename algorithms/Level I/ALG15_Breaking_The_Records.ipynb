{
  "nbformat": 4,
  "nbformat_minor": 0,
  "metadata": {
    "colab": {
      "name": "ALG15_Breaking The Records.ipynb",
      "provenance": []
    },
    "kernelspec": {
      "name": "python3",
      "display_name": "Python 3"
    },
    "language_info": {
      "name": "python"
    }
  },
  "cells": [
    {
      "cell_type": "markdown",
      "source": [
        "Problem Link\n",
        "\n",
        "https://www.hackerrank.com/challenges/breaking-best-and-worst-records/problem"
      ],
      "metadata": {
        "id": "dzlz0prazvy2"
      }
    },
    {
      "cell_type": "code",
      "source": [
        "#!/bin/python3\n",
        "\n",
        "import math\n",
        "import os\n",
        "import random\n",
        "import re\n",
        "import sys\n",
        "\n",
        "#\n",
        "# Complete the 'breakingRecords' function below.\n",
        "#\n",
        "# The function is expected to return an INTEGER_ARRAY.\n",
        "# The function accepts INTEGER_ARRAY scores as parameter.\n",
        "#\n",
        "\n",
        "def breakingRecords(scores):\n",
        "    # Write your code here\n",
        "    low_score = scores[0]\n",
        "    high_score = scores[0]\n",
        "    count_low = 0\n",
        "    count_high = 0\n",
        "    \n",
        "    for score in scores:\n",
        "        if score > high_score:\n",
        "            high_score = score\n",
        "            count_high+=1\n",
        "        if score < low_score:\n",
        "            low_score = score\n",
        "            count_low+=1\n",
        "            \n",
        "    return count_high, count_low\n",
        "\n",
        "if __name__ == '__main__':\n",
        "    fptr = open(os.environ['OUTPUT_PATH'], 'w')\n",
        "\n",
        "    n = int(input().strip())\n",
        "\n",
        "    scores = list(map(int, input().rstrip().split()))\n",
        "\n",
        "    result = breakingRecords(scores)\n",
        "\n",
        "    fptr.write(' '.join(map(str, result)))\n",
        "    fptr.write('\\n')\n",
        "\n",
        "    fptr.close()"
      ],
      "metadata": {
        "id": "b-3k7a58z4ap"
      },
      "execution_count": null,
      "outputs": []
    }
  ]
}