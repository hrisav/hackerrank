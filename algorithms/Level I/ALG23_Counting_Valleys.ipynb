{
  "nbformat": 4,
  "nbformat_minor": 0,
  "metadata": {
    "colab": {
      "name": "ALG23_Counting Valleys.ipynb",
      "provenance": [],
      "collapsed_sections": []
    },
    "kernelspec": {
      "name": "python3",
      "display_name": "Python 3"
    },
    "language_info": {
      "name": "python"
    }
  },
  "cells": [
    {
      "cell_type": "markdown",
      "source": [
        "Problem Link\n",
        "\n",
        "https://www.hackerrank.com/challenges/counting-valleys/problem"
      ],
      "metadata": {
        "id": "dzlz0prazvy2"
      }
    },
    {
      "cell_type": "code",
      "source": [
        "#!/bin/python3\n",
        "\n",
        "import math\n",
        "import os\n",
        "import random\n",
        "import re\n",
        "import sys\n",
        "\n",
        "#\n",
        "# Complete the 'countingValleys' function below.\n",
        "#\n",
        "# The function is expected to return an INTEGER.\n",
        "# The function accepts following parameters:\n",
        "#  1. INTEGER steps\n",
        "#  2. STRING path\n",
        "#\n",
        "\n",
        "def countingValleys(steps, path):\n",
        "    # Write your code here\n",
        "    count_u = 0\n",
        "    count_d = 0\n",
        "    valley = 0\n",
        "    \n",
        "    for i in path:\n",
        "        if i=='U':\n",
        "            count_u+=1\n",
        "        if i=='D':\n",
        "            count_d+=1\n",
        "        if i=='D' and count_u==0 and count_d==1:\n",
        "            valley+=1\n",
        "        if count_u==count_d:\n",
        "            count_u = 0\n",
        "            count_d = 0\n",
        "            \n",
        "    return valley\n",
        "\n",
        "if __name__ == '__main__':\n",
        "    fptr = open(os.environ['OUTPUT_PATH'], 'w')\n",
        "\n",
        "    steps = int(input().strip())\n",
        "\n",
        "    path = input()\n",
        "\n",
        "    result = countingValleys(steps, path)\n",
        "\n",
        "    fptr.write(str(result) + '\\n')\n",
        "\n",
        "    fptr.close()"
      ],
      "metadata": {
        "id": "b-3k7a58z4ap"
      },
      "execution_count": null,
      "outputs": []
    },
    {
      "cell_type": "code",
      "source": [
        "# other's solution\n",
        "\n",
        "def countingValleys(steps, path):\n",
        "    seaLevel = valley = 0\n",
        "\n",
        "    for i in path:\n",
        "        if i == 'U':\n",
        "            seaLevel += 1\n",
        "        else:\n",
        "            seaLevel -= 1\n",
        "        \n",
        "        if i == 'U' and seaLevel == 0:\n",
        "            valley += 1\n",
        "    \n",
        "    return valley"
      ],
      "metadata": {
        "id": "fcFBAF-yfX-2"
      },
      "execution_count": null,
      "outputs": []
    }
  ]
}