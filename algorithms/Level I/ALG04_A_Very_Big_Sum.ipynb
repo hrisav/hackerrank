{
  "nbformat": 4,
  "nbformat_minor": 0,
  "metadata": {
    "colab": {
      "name": "ALG04_A Very Big Sum.ipynb",
      "provenance": []
    },
    "kernelspec": {
      "name": "python3",
      "display_name": "Python 3"
    },
    "language_info": {
      "name": "python"
    }
  },
  "cells": [
    {
      "cell_type": "markdown",
      "metadata": {
        "id": "dfs6P8nVxoDt"
      },
      "source": [
        "Problem Link\n",
        "\n",
        "https://www.hackerrank.com/challenges/a-very-big-sum/problem"
      ]
    },
    {
      "cell_type": "code",
      "metadata": {
        "id": "72KSzMMOLILy"
      },
      "source": [
        "#!/bin/python3\n",
        "\n",
        "import math\n",
        "import os\n",
        "import random\n",
        "import re\n",
        "import sys\n",
        "\n",
        "#\n",
        "# Complete the 'aVeryBigSum' function below.\n",
        "#\n",
        "# The function is expected to return a LONG_INTEGER.\n",
        "# The function accepts LONG_INTEGER_ARRAY ar as parameter.\n",
        "#\n",
        "\n",
        "def aVeryBigSum(ar):\n",
        "    # Write your code here\n",
        "    return sum(ar)\n",
        "\n",
        "if __name__ == '__main__':\n",
        "    fptr = open(os.environ['OUTPUT_PATH'], 'w')\n",
        "\n",
        "    ar_count = int(input().strip())\n",
        "\n",
        "    ar = list(map(int, input().rstrip().split()))\n",
        "\n",
        "    result = aVeryBigSum(ar)\n",
        "\n",
        "    fptr.write(str(result) + '\\n')\n",
        "\n",
        "    fptr.close()\n"
      ],
      "execution_count": null,
      "outputs": []
    }
  ]
}