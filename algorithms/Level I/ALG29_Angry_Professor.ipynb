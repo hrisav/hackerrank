{
  "nbformat": 4,
  "nbformat_minor": 0,
  "metadata": {
    "colab": {
      "name": "ALG29_Angry Professor.ipynb",
      "provenance": [],
      "collapsed_sections": []
    },
    "kernelspec": {
      "name": "python3",
      "display_name": "Python 3"
    },
    "language_info": {
      "name": "python"
    }
  },
  "cells": [
    {
      "cell_type": "markdown",
      "source": [
        "Problem Link\n",
        "\n",
        "https://www.hackerrank.com/challenges/angry-professor/problem"
      ],
      "metadata": {
        "id": "dzlz0prazvy2"
      }
    },
    {
      "cell_type": "code",
      "source": [
        "#!/bin/python3\n",
        "\n",
        "import math\n",
        "import os\n",
        "import random\n",
        "import re\n",
        "import sys\n",
        "\n",
        "#\n",
        "# Complete the 'angryProfessor' function below.\n",
        "#\n",
        "# The function is expected to return a STRING.\n",
        "# The function accepts following parameters:\n",
        "#  1. INTEGER k\n",
        "#  2. INTEGER_ARRAY a\n",
        "#\n",
        "\n",
        "def angryProfessor(k, a):\n",
        "    # Write your code here\n",
        "    safe = 0\n",
        "    late = 0\n",
        "    for i in a:\n",
        "        if i<=0:\n",
        "            safe+=1\n",
        "        else:\n",
        "            late+=1\n",
        "    print(safe)\n",
        "    print(late)\n",
        "    print(k)\n",
        "    if safe>=k:\n",
        "        return \"NO\"\n",
        "    else:\n",
        "        return \"YES\"            # cancelled\n",
        "\n",
        "if __name__ == '__main__':\n",
        "    fptr = open(os.environ['OUTPUT_PATH'], 'w')\n",
        "\n",
        "    t = int(input().strip())\n",
        "\n",
        "    for t_itr in range(t):\n",
        "        first_multiple_input = input().rstrip().split()\n",
        "\n",
        "        n = int(first_multiple_input[0])\n",
        "\n",
        "        k = int(first_multiple_input[1])\n",
        "\n",
        "        a = list(map(int, input().rstrip().split()))\n",
        "\n",
        "        result = angryProfessor(k, a)\n",
        "\n",
        "        fptr.write(result + '\\n')\n",
        "\n",
        "    fptr.close()"
      ],
      "metadata": {
        "id": "b-3k7a58z4ap"
      },
      "execution_count": null,
      "outputs": []
    }
  ]
}