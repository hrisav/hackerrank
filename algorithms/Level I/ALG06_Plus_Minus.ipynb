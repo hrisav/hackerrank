{
  "nbformat": 4,
  "nbformat_minor": 0,
  "metadata": {
    "colab": {
      "name": "ALG06_Plus Minus.ipynb",
      "provenance": [],
      "collapsed_sections": []
    },
    "kernelspec": {
      "name": "python3",
      "display_name": "Python 3"
    },
    "language_info": {
      "name": "python"
    }
  },
  "cells": [
    {
      "cell_type": "markdown",
      "metadata": {
        "id": "dfs6P8nVxoDt"
      },
      "source": [
        "Problem Link\n",
        "\n",
        "https://www.hackerrank.com/challenges/plus-minus/problem"
      ]
    },
    {
      "cell_type": "code",
      "metadata": {
        "id": "72KSzMMOLILy"
      },
      "source": [
        "#!/bin/python3\n",
        "\n",
        "import math\n",
        "import os\n",
        "import random\n",
        "import re\n",
        "import sys\n",
        "\n",
        "#\n",
        "# Complete the 'plusMinus' function below.\n",
        "#\n",
        "# The function accepts INTEGER_ARRAY arr as parameter.\n",
        "#\n",
        "\n",
        "def plusMinus(arr):\n",
        "    # Write your code here\n",
        "    pos = neg = zer = 0\n",
        "    n = len(arr)\n",
        "    for i in range(len(arr)):\n",
        "        if arr[i]>0:\n",
        "            pos=pos+1\n",
        "        elif arr[i]<0:\n",
        "            neg=neg+1\n",
        "        else:\n",
        "            zer=zer+1\n",
        "    print(round(pos/n,6))\n",
        "    print(round(neg/n,6))\n",
        "    print(round(zer/n,6))\n",
        "\n",
        "if __name__ == '__main__':\n",
        "    n = int(input().strip())\n",
        "\n",
        "    arr = list(map(int, input().rstrip().split()))\n",
        "\n",
        "    plusMinus(arr)"
      ],
      "execution_count": null,
      "outputs": []
    }
  ]
}