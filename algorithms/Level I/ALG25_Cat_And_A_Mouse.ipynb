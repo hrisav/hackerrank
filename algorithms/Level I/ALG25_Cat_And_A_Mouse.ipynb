{
  "nbformat": 4,
  "nbformat_minor": 0,
  "metadata": {
    "colab": {
      "name": "ALG25_Cat And A Mouse.ipynb",
      "provenance": [],
      "collapsed_sections": []
    },
    "kernelspec": {
      "name": "python3",
      "display_name": "Python 3"
    },
    "language_info": {
      "name": "python"
    }
  },
  "cells": [
    {
      "cell_type": "markdown",
      "source": [
        "Problem Link\n",
        "\n",
        "https://www.hackerrank.com/challenges/electronics-shop/problem"
      ],
      "metadata": {
        "id": "dzlz0prazvy2"
      }
    },
    {
      "cell_type": "code",
      "source": [
        "#!/bin/python3\n",
        "\n",
        "import math\n",
        "import os\n",
        "import random\n",
        "import re\n",
        "import sys\n",
        "\n",
        "# Complete the catAndMouse function below.\n",
        "def catAndMouse(x, y, z):\n",
        "    if abs(x-z) == abs(y-z):\n",
        "        return \"Mouse C\"\n",
        "    elif abs(x-z) > abs(y-z):\n",
        "        return \"Cat B\"\n",
        "    elif abs(x-z) < abs(y-z):\n",
        "        return \"Cat A\"\n",
        "\n",
        "if __name__ == '__main__':\n",
        "    fptr = open(os.environ['OUTPUT_PATH'], 'w')\n",
        "\n",
        "    q = int(input())\n",
        "\n",
        "    for q_itr in range(q):\n",
        "        xyz = input().split()\n",
        "\n",
        "        x = int(xyz[0])\n",
        "\n",
        "        y = int(xyz[1])\n",
        "\n",
        "        z = int(xyz[2])\n",
        "\n",
        "        result = catAndMouse(x, y, z)\n",
        "\n",
        "        fptr.write(result + '\\n')\n",
        "\n",
        "    fptr.close()"
      ],
      "metadata": {
        "id": "b-3k7a58z4ap"
      },
      "execution_count": null,
      "outputs": []
    }
  ]
}