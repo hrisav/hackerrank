{
  "nbformat": 4,
  "nbformat_minor": 0,
  "metadata": {
    "colab": {
      "name": "ALG27_Designer PDF Viewer.ipynb",
      "provenance": [],
      "collapsed_sections": []
    },
    "kernelspec": {
      "name": "python3",
      "display_name": "Python 3"
    },
    "language_info": {
      "name": "python"
    }
  },
  "cells": [
    {
      "cell_type": "markdown",
      "source": [
        "Problem Link\n",
        "\n",
        "https://www.hackerrank.com/challenges/designer-pdf-viewer/problem"
      ],
      "metadata": {
        "id": "dzlz0prazvy2"
      }
    },
    {
      "cell_type": "code",
      "source": [
        "#!/bin/python3\n",
        "\n",
        "import math\n",
        "import os\n",
        "import random\n",
        "import re\n",
        "import sys\n",
        "\n",
        "#\n",
        "# Complete the 'designerPdfViewer' function below.\n",
        "#\n",
        "# The function is expected to return an INTEGER.\n",
        "# The function accepts following parameters:\n",
        "#  1. INTEGER_ARRAY h\n",
        "#  2. STRING word\n",
        "#\n",
        "\n",
        "def designerPdfViewer(h, word):\n",
        "    # Write your code here\n",
        "    # letters = ['a','b','c','d','e','f','g','h','i','j','k','l','m',\n",
        "    #             'n','o','p','q','r','s','t','u','v','w','x','y','z']\n",
        "    letters = {'a':0,'b':1,'c':2,'d':3,'e':4,'f':5,'g':6,'h':7,'i':8,\n",
        "                'j':9,'k':10,'l':11,'m':12,'n':13,'o':14,'p':15,'q':16,\n",
        "                'r':17,'s':18,'t':19,'u':20,'v':21,'w':22,'x':23,'y':24,'z':25}\n",
        "    heights = []\n",
        "    for w in word:\n",
        "        s = letters[w]\n",
        "        p = h[s]\n",
        "        heights.append(p)\n",
        "    return (max(heights)*len(word))\n",
        "\n",
        "if __name__ == '__main__':\n",
        "    fptr = open(os.environ['OUTPUT_PATH'], 'w')\n",
        "\n",
        "    h = list(map(int, input().rstrip().split()))\n",
        "\n",
        "    word = input()\n",
        "\n",
        "    result = designerPdfViewer(h, word)\n",
        "\n",
        "    fptr.write(str(result) + '\\n')\n",
        "\n",
        "    fptr.close()"
      ],
      "metadata": {
        "id": "b-3k7a58z4ap"
      },
      "execution_count": null,
      "outputs": []
    },
    {
      "cell_type": "code",
      "source": [
        "# other's solution\n",
        "\n",
        "# ord() function returns the Unicode code from a given character\n",
        "size = [int(i) for i in input().split()]\n",
        "word = [size[ord(c)-ord('a')] for c in input()]\n",
        "print(max(word)*len(word))"
      ],
      "metadata": {
        "id": "fn4GaERXbBQy"
      },
      "execution_count": null,
      "outputs": []
    }
  ]
}