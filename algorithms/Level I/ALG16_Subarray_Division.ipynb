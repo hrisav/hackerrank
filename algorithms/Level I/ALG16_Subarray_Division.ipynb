{
  "nbformat": 4,
  "nbformat_minor": 0,
  "metadata": {
    "colab": {
      "name": "ALG16_Subarray Division.ipynb",
      "provenance": [],
      "collapsed_sections": []
    },
    "kernelspec": {
      "name": "python3",
      "display_name": "Python 3"
    },
    "language_info": {
      "name": "python"
    }
  },
  "cells": [
    {
      "cell_type": "markdown",
      "source": [
        "Problem Link\n",
        "\n",
        "https://www.hackerrank.com/challenges/the-birthday-bar/problem"
      ],
      "metadata": {
        "id": "dzlz0prazvy2"
      }
    },
    {
      "cell_type": "code",
      "source": [
        "#!/bin/python3\n",
        "\n",
        "import math\n",
        "import os\n",
        "import random\n",
        "import re\n",
        "import sys\n",
        "\n",
        "#\n",
        "# Complete the 'birthday' function below.\n",
        "#\n",
        "# The function is expected to return an INTEGER.\n",
        "# The function accepts following parameters:\n",
        "#  1. INTEGER_ARRAY s\n",
        "#  2. INTEGER d\n",
        "#  3. INTEGER m\n",
        "#\n",
        "\n",
        "def birthday(s, d, m):\n",
        "    # Write your code here\n",
        "    count=0\n",
        "    s_copy=s\n",
        "    for i in range(len(s)):         # just a counter\n",
        "        total = sum(s_copy[:m])     # add only till m elements\n",
        "        if total == d:\n",
        "            count+=1\n",
        "        s_copy.pop(0)               # remove 1st element from list\n",
        "    return count\n",
        "            \n",
        "    \n",
        "if __name__ == '__main__':\n",
        "    fptr = open(os.environ['OUTPUT_PATH'], 'w')\n",
        "\n",
        "    n = int(input().strip())\n",
        "\n",
        "    s = list(map(int, input().rstrip().split()))\n",
        "\n",
        "    first_multiple_input = input().rstrip().split()\n",
        "\n",
        "    d = int(first_multiple_input[0])\n",
        "\n",
        "    m = int(first_multiple_input[1])\n",
        "\n",
        "    result = birthday(s, d, m)\n",
        "\n",
        "    fptr.write(str(result) + '\\n')\n",
        "\n",
        "    fptr.close()"
      ],
      "metadata": {
        "id": "b-3k7a58z4ap"
      },
      "execution_count": null,
      "outputs": []
    }
  ]
}