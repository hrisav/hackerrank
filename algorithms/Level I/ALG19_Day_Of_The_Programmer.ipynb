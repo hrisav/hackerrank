{
  "nbformat": 4,
  "nbformat_minor": 0,
  "metadata": {
    "colab": {
      "name": "ALG19_Day Of The Programmer.ipynb",
      "provenance": [],
      "collapsed_sections": []
    },
    "kernelspec": {
      "name": "python3",
      "display_name": "Python 3"
    },
    "language_info": {
      "name": "python"
    }
  },
  "cells": [
    {
      "cell_type": "markdown",
      "source": [
        "Problem Link\n",
        "\n",
        "https://www.hackerrank.com/challenges/day-of-the-programmer/problem"
      ],
      "metadata": {
        "id": "dzlz0prazvy2"
      }
    },
    {
      "cell_type": "code",
      "source": [
        "#!/bin/python3\n",
        "\n",
        "import math\n",
        "import os\n",
        "import random\n",
        "import re\n",
        "import sys\n",
        "\n",
        "#\n",
        "# Complete the 'dayOfProgrammer' function below.\n",
        "#\n",
        "# The function is expected to return a STRING.\n",
        "# The function accepts INTEGER year as parameter.\n",
        "#\n",
        "\n",
        "def dayOfProgrammer(year):\n",
        "    # Write your code here\n",
        "    if year==1918:\n",
        "        return \"26.09.%s\" %year\n",
        "    elif (year<1918 and year%4==0) or (year>1918 and (year%400==0 or (year%4==0 and year%100!=0))):         # leap years which is < 1918 and > 1918\n",
        "        return \"12.09.%s\" %year\n",
        "    else:                                                                                                   # non leap years which is < 1918 and > 1918\n",
        "        return \"13.09.%s\" %year\n",
        "            \n",
        "\n",
        "if __name__ == '__main__':\n",
        "    fptr = open(os.environ['OUTPUT_PATH'], 'w')\n",
        "\n",
        "    year = int(input().strip())\n",
        "\n",
        "    result = dayOfProgrammer(year)\n",
        "\n",
        "    fptr.write(result + '\\n')\n",
        "\n",
        "    fptr.close()"
      ],
      "metadata": {
        "id": "b-3k7a58z4ap"
      },
      "execution_count": null,
      "outputs": []
    }
  ]
}