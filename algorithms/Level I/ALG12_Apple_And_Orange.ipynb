{
  "nbformat": 4,
  "nbformat_minor": 0,
  "metadata": {
    "colab": {
      "name": "ALG12_Apple_And_Orange.ipynb",
      "provenance": [],
      "collapsed_sections": []
    },
    "kernelspec": {
      "name": "python3",
      "display_name": "Python 3"
    },
    "language_info": {
      "name": "python"
    }
  },
  "cells": [
    {
      "cell_type": "markdown",
      "metadata": {
        "id": "dfs6P8nVxoDt"
      },
      "source": [
        "Problem Link\n",
        "\n",
        "https://www.hackerrank.com/challenges/apple-and-orange/problem"
      ]
    },
    {
      "cell_type": "markdown",
      "metadata": {
        "id": "-urd1EKi7_3l"
      },
      "source": [
        "![](https://drive.google.com/uc?id=1_IOk_dR8iUG0Tvw44iST5M8UK7POF5li)"
      ]
    },
    {
      "cell_type": "markdown",
      "metadata": {
        "id": "8ugzWvjQ8DYR"
      },
      "source": [
        "![](https://drive.google.com/uc?id=1OCkQj6k1RUQP4PHAMp03WNFPkrGGM827)"
      ]
    },
    {
      "cell_type": "markdown",
      "metadata": {
        "id": "b6hew0RX8L8C"
      },
      "source": [
        "![](https://drive.google.com/uc?id=1J2PX_J8l3WbdPS_OLW6O4Nb_AI6kF-Ph)"
      ]
    },
    {
      "cell_type": "markdown",
      "metadata": {
        "id": "w1DbJEvX8YMr"
      },
      "source": [
        "![](https://drive.google.com/uc?id=1lH9x10tij_LMj5P9peb4_RcAJMO0jlWG)"
      ]
    },
    {
      "cell_type": "markdown",
      "metadata": {
        "id": "ZwmmpENTEk2u"
      },
      "source": [
        "## My Solution"
      ]
    },
    {
      "cell_type": "code",
      "metadata": {
        "id": "72KSzMMOLILy"
      },
      "source": [
        "#!/bin/python3\n",
        "\n",
        "import math\n",
        "import os\n",
        "import random\n",
        "import re\n",
        "import sys\n",
        "\n",
        "#\n",
        "# Complete the 'countApplesAndOranges' function below.\n",
        "#\n",
        "# The function accepts following parameters:\n",
        "#  1. INTEGER s\n",
        "#  2. INTEGER t\n",
        "#  3. INTEGER a\n",
        "#  4. INTEGER b\n",
        "#  5. INTEGER_ARRAY apples\n",
        "#  6. INTEGER_ARRAY oranges\n",
        "#\n",
        "\n",
        "def countApplesAndOranges(s, t, a, b, apples, oranges):\n",
        "    # Write your code here\n",
        "    dist_a = []\n",
        "    dist_b = []\n",
        "    count_a = 0\n",
        "    count_b = 0\n",
        "    for i in apples:\n",
        "        dist_a.append(i+a)\n",
        "    for i in oranges:\n",
        "        dist_b.append(i+b)\n",
        "    for i in dist_a:\n",
        "        if i >= s and i <= t:\n",
        "            count_a+=1\n",
        "    for i in dist_b:\n",
        "        if i >= s and i <= t:\n",
        "            count_b+=1    \n",
        "    print(count_a)\n",
        "    print(count_b)\n",
        "    \n",
        "if __name__ == '__main__':\n",
        "    first_multiple_input = input().rstrip().split()\n",
        "\n",
        "    s = int(first_multiple_input[0])\n",
        "\n",
        "    t = int(first_multiple_input[1])\n",
        "\n",
        "    second_multiple_input = input().rstrip().split()\n",
        "\n",
        "    a = int(second_multiple_input[0])\n",
        "\n",
        "    b = int(second_multiple_input[1])\n",
        "\n",
        "    third_multiple_input = input().rstrip().split()\n",
        "\n",
        "    m = int(third_multiple_input[0])\n",
        "\n",
        "    n = int(third_multiple_input[1])\n",
        "\n",
        "    apples = list(map(int, input().rstrip().split()))\n",
        "\n",
        "    oranges = list(map(int, input().rstrip().split()))\n",
        "\n",
        "    countApplesAndOranges(s, t, a, b, apples, oranges)"
      ],
      "execution_count": null,
      "outputs": []
    },
    {
      "cell_type": "markdown",
      "metadata": {
        "id": "kB_XsvELEnCI"
      },
      "source": [
        "## Others Solution"
      ]
    },
    {
      "cell_type": "code",
      "metadata": {
        "id": "rs66iUdwEbgA"
      },
      "source": [
        "print(sum([1 for x in apple if (x + a) >= s and (x + a) <= t]))\n",
        "print(sum([1 for x in orange if (x + b) >= s and (x + b) <= t]))"
      ],
      "execution_count": null,
      "outputs": []
    }
  ]
}