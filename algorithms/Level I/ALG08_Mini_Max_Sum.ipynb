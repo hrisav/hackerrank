{
  "nbformat": 4,
  "nbformat_minor": 0,
  "metadata": {
    "colab": {
      "name": "ALG08_Mini-Max Sum.ipynb",
      "provenance": [],
      "collapsed_sections": []
    },
    "kernelspec": {
      "name": "python3",
      "display_name": "Python 3"
    },
    "language_info": {
      "name": "python"
    }
  },
  "cells": [
    {
      "cell_type": "markdown",
      "metadata": {
        "id": "dfs6P8nVxoDt"
      },
      "source": [
        "Problem Link\n",
        "\n",
        "https://www.hackerrank.com/challenges/mini-max-sum/problem"
      ]
    },
    {
      "cell_type": "markdown",
      "metadata": {
        "id": "15g-bV2greqk"
      },
      "source": [
        "![](https://drive.google.com/uc?id=1qLaydo_8RuUPXruEPZEhR5ecoET4_HcQ)"
      ]
    },
    {
      "cell_type": "markdown",
      "metadata": {
        "id": "osAkGAzqrneF"
      },
      "source": [
        "![](https://drive.google.com/uc?id=1vKX2tbjVnCUP97SfRIHzix5TrgfYJxIZ)"
      ]
    },
    {
      "cell_type": "code",
      "metadata": {
        "id": "72KSzMMOLILy"
      },
      "source": [
        "#!/bin/python3\n",
        "\n",
        "import math\n",
        "import os\n",
        "import random\n",
        "import re\n",
        "import sys\n",
        "\n",
        "#\n",
        "# Complete the 'miniMaxSum' function below.\n",
        "#\n",
        "# The function accepts INTEGER_ARRAY arr as parameter.\n",
        "#\n",
        "\n",
        "def miniMaxSum(arr):\n",
        "    # Write your code here\n",
        "    print(sum(arr)-max(arr), sum(arr)-min(arr))\n",
        "\n",
        "if __name__ == '__main__':\n",
        "\n",
        "    arr = list(map(int, input().rstrip().split()))\n",
        "\n",
        "    miniMaxSum(arr)\n"
      ],
      "execution_count": null,
      "outputs": []
    }
  ]
}