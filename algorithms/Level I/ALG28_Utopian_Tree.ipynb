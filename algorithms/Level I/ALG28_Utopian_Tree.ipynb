{
  "nbformat": 4,
  "nbformat_minor": 0,
  "metadata": {
    "colab": {
      "name": "ALG28_Utopian Tree.ipynb",
      "provenance": [],
      "collapsed_sections": []
    },
    "kernelspec": {
      "name": "python3",
      "display_name": "Python 3"
    },
    "language_info": {
      "name": "python"
    }
  },
  "cells": [
    {
      "cell_type": "markdown",
      "source": [
        "Problem Link\n",
        "\n",
        "https://www.hackerrank.com/challenges/utopian-tree/problem"
      ],
      "metadata": {
        "id": "dzlz0prazvy2"
      }
    },
    {
      "cell_type": "code",
      "source": [
        "#!/bin/python3\n",
        "\n",
        "import math\n",
        "import os\n",
        "import random\n",
        "import re\n",
        "import sys\n",
        "\n",
        "#\n",
        "# Complete the 'utopianTree' function below.\n",
        "#\n",
        "# The function is expected to return an INTEGER.\n",
        "# The function accepts INTEGER n as parameter.\n",
        "#\n",
        "\n",
        "def utopianTree(n):\n",
        "    # Write your code \n",
        "    count = 0\n",
        "    for i in range(n+1):\n",
        "        if int(i%2)==0:\n",
        "            count+=1\n",
        "        else:\n",
        "            count*=2\n",
        "    return count\n",
        "\n",
        "if __name__ == '__main__':\n",
        "    fptr = open(os.environ['OUTPUT_PATH'], 'w')\n",
        "\n",
        "    t = int(input().strip())\n",
        "\n",
        "    for t_itr in range(t):\n",
        "        n = int(input().strip())\n",
        "\n",
        "        result = utopianTree(n)\n",
        "\n",
        "        fptr.write(str(result) + '\\n')\n",
        "\n",
        "    fptr.close()"
      ],
      "metadata": {
        "id": "b-3k7a58z4ap"
      },
      "execution_count": null,
      "outputs": []
    },
    {
      "cell_type": "code",
      "source": [
        "# other's solution\n",
        "\n",
        "def utopianTree(n):\n",
        "    if n < 3:\n",
        "        return n + 1\n",
        "    if n % 2 == 0:\n",
        "        return (utopianTree(n - 2) * 2) + 1\n",
        "    else:\n",
        "        return (utopianTree(n - 2) + 1) * 2"
      ],
      "metadata": {
        "id": "fn4GaERXbBQy"
      },
      "execution_count": null,
      "outputs": []
    }
  ]
}