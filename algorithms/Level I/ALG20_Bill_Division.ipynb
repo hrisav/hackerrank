{
  "nbformat": 4,
  "nbformat_minor": 0,
  "metadata": {
    "colab": {
      "name": "ALG20_Bill Division.ipynb",
      "provenance": [],
      "collapsed_sections": []
    },
    "kernelspec": {
      "name": "python3",
      "display_name": "Python 3"
    },
    "language_info": {
      "name": "python"
    }
  },
  "cells": [
    {
      "cell_type": "markdown",
      "source": [
        "Problem Link\n",
        "\n",
        "https://www.hackerrank.com/challenges/bon-appetit/problem"
      ],
      "metadata": {
        "id": "dzlz0prazvy2"
      }
    },
    {
      "cell_type": "code",
      "source": [
        "#!/bin/python3\n",
        "\n",
        "import math\n",
        "import os\n",
        "import random\n",
        "import re\n",
        "import sys\n",
        "\n",
        "#\n",
        "# Complete the 'bonAppetit' function below.\n",
        "#\n",
        "# The function accepts following parameters:\n",
        "#  1. INTEGER_ARRAY bill\n",
        "#  2. INTEGER k\n",
        "#  3. INTEGER b\n",
        "#\n",
        "\n",
        "def bonAppetit(bill, k, b):\n",
        "    # Write your code here\n",
        "    del bill[k]\n",
        "    val = int(sum(bill)/2)\n",
        "    err = b-val\n",
        "    if val==b:\n",
        "        print(\"Bon Appetit\")\n",
        "    else:\n",
        "        print(err)\n",
        "\n",
        "if __name__ == '__main__':\n",
        "    first_multiple_input = input().rstrip().split()\n",
        "\n",
        "    n = int(first_multiple_input[0])\n",
        "\n",
        "    k = int(first_multiple_input[1])\n",
        "\n",
        "    bill = list(map(int, input().rstrip().split()))\n",
        "\n",
        "    b = int(input().strip())\n",
        "\n",
        "    bonAppetit(bill, k, b)"
      ],
      "metadata": {
        "id": "b-3k7a58z4ap"
      },
      "execution_count": null,
      "outputs": []
    }
  ]
}