{
  "nbformat": 4,
  "nbformat_minor": 0,
  "metadata": {
    "colab": {
      "name": "ALG14_Between_Two_Sets.ipynb",
      "provenance": [],
      "collapsed_sections": []
    },
    "kernelspec": {
      "name": "python3",
      "display_name": "Python 3"
    },
    "language_info": {
      "name": "python"
    }
  },
  "cells": [
    {
      "cell_type": "markdown",
      "metadata": {
        "id": "dfs6P8nVxoDt"
      },
      "source": [
        "Problem Link\n",
        "\n",
        "https://www.hackerrank.com/challenges/between-two-sets/problem"
      ]
    },
    {
      "cell_type": "markdown",
      "metadata": {
        "id": "ZwmmpENTEk2u"
      },
      "source": [
        "## My Solution"
      ]
    },
    {
      "cell_type": "markdown",
      "metadata": {
        "id": "lUpjYky5L4PA"
      },
      "source": [
        "Logic:\n",
        "\n",
        "- For all numbers from 1 to 100, find which numbers are multiples of each element of A.\n",
        "\n",
        "- For all numbers from 1 to 100, find which numbers can be divided by each element of B.\n",
        "\n",
        "- Make a list having all the values.\n",
        "\n",
        "- Find common values which appears as many times as number of total elements in A and B."
      ]
    },
    {
      "cell_type": "code",
      "metadata": {
        "id": "72KSzMMOLILy"
      },
      "source": [
        "#!/bin/python3\n",
        "\n",
        "import math\n",
        "import os\n",
        "import random\n",
        "import re\n",
        "import sys\n",
        "\n",
        "#\n",
        "# Complete the 'getTotalX' function below.\n",
        "#\n",
        "# The function is expected to return an INTEGER.\n",
        "# The function accepts following parameters:\n",
        "#  1. INTEGER_ARRAY a\n",
        "#  2. INTEGER_ARRAY b\n",
        "#\n",
        "\n",
        "def getTotalX(a, b):\n",
        "    # Write your code here\n",
        "    \n",
        "    values_of_a = []\n",
        "    values_of_b = []\n",
        "    final_list = []\n",
        "    \n",
        "    max_len = len(a+b)\n",
        "    \n",
        "    for i in range(1, 101):\n",
        "        for num in a:\n",
        "            if i%num==0:\n",
        "                values_of_a.append(i)\n",
        "                \n",
        "    for i in range(1, 101):\n",
        "        for num in b:\n",
        "            if num%i==0:\n",
        "                values_of_b.append(i)\n",
        "                \n",
        "    common_values = values_of_a + values_of_b\n",
        "    \n",
        "    for each_value in common_values:\n",
        "        if common_values.count(each_value) == max_len:\n",
        "            final_list.append(each_value)\n",
        "    \n",
        "    return len(set(final_list))\n",
        "\n",
        "if __name__ == '__main__':\n",
        "    fptr = open(os.environ['OUTPUT_PATH'], 'w')\n",
        "\n",
        "    first_multiple_input = input().rstrip().split()\n",
        "\n",
        "    n = int(first_multiple_input[0])\n",
        "\n",
        "    m = int(first_multiple_input[1])\n",
        "\n",
        "    arr = list(map(int, input().rstrip().split()))\n",
        "\n",
        "    brr = list(map(int, input().rstrip().split()))\n",
        "\n",
        "    total = getTotalX(arr, brr)\n",
        "\n",
        "    fptr.write(str(total) + '\\n')\n",
        "\n",
        "    fptr.close()"
      ],
      "execution_count": null,
      "outputs": []
    },
    {
      "cell_type": "markdown",
      "metadata": {
        "id": "FatilkAVv9l-"
      },
      "source": [
        "Logic:\n",
        "\n",
        "- Find the GCD of all the integers of array B.\n",
        "\n",
        "- Find the LCM of all the integers of array A.\n",
        "\n",
        "- Count the number of multiples of LCM that evenly divides the GCD."
      ]
    },
    {
      "cell_type": "code",
      "metadata": {
        "id": "HBfypolPtORS"
      },
      "source": [
        "#!/bin/python3\n",
        "\n",
        "import math\n",
        "import os\n",
        "import random\n",
        "import re\n",
        "import sys\n",
        "from functools import reduce\n",
        "\n",
        "#\n",
        "# Complete the 'getTotalX' function below.\n",
        "#\n",
        "# The function is expected to return an INTEGER.\n",
        "# The function accepts following parameters:\n",
        "#  1. INTEGER_ARRAY a\n",
        "#  2. INTEGER_ARRAY b\n",
        "#\n",
        "\n",
        "def getTotalX(a, b):\n",
        "    # Write your code here\n",
        "    \n",
        "    def gcd(x, y):                    # finding HCF using recursion\n",
        "        if (y==0):\n",
        "            return x\n",
        "        else:\n",
        "            return gcd(y, x%y)\n",
        "    \n",
        "    def lcm(x,y):\n",
        "        return x*y//gcd(x,y)\n",
        "    \n",
        "    g = reduce(gcd, b)                # finding HCF for multiple values by using reduce\n",
        "    l = reduce(lcm, a)\n",
        "    \n",
        "    count = 0\n",
        "    for i in range(l, g+1, l):\n",
        "        if g%i==0:\n",
        "            count+=1\n",
        "            \n",
        "    return count\n",
        "    \n",
        "if __name__ == '__main__':\n",
        "    fptr = open(os.environ['OUTPUT_PATH'], 'w')\n",
        "\n",
        "    first_multiple_input = input().rstrip().split()\n",
        "\n",
        "    n = int(first_multiple_input[0])\n",
        "\n",
        "    m = int(first_multiple_input[1])\n",
        "\n",
        "    arr = list(map(int, input().rstrip().split()))\n",
        "\n",
        "    brr = list(map(int, input().rstrip().split()))\n",
        "\n",
        "    total = getTotalX(arr, brr)\n",
        "\n",
        "    fptr.write(str(total) + '\\n')\n",
        "\n",
        "    fptr.close()\n"
      ],
      "execution_count": null,
      "outputs": []
    }
  ]
}