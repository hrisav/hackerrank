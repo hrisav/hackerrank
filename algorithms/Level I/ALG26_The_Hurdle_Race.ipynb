{
  "nbformat": 4,
  "nbformat_minor": 0,
  "metadata": {
    "colab": {
      "name": "ALG26_The Hurdle Race.ipynb",
      "provenance": [],
      "collapsed_sections": []
    },
    "kernelspec": {
      "name": "python3",
      "display_name": "Python 3"
    },
    "language_info": {
      "name": "python"
    }
  },
  "cells": [
    {
      "cell_type": "markdown",
      "source": [
        "Problem Link\n",
        "\n",
        "https://www.hackerrank.com/challenges/the-hurdle-race/problem"
      ],
      "metadata": {
        "id": "dzlz0prazvy2"
      }
    },
    {
      "cell_type": "code",
      "source": [
        "#!/bin/python3\n",
        "\n",
        "import math\n",
        "import os\n",
        "import random\n",
        "import re\n",
        "import sys\n",
        "\n",
        "#\n",
        "# Complete the 'hurdleRace' function below.\n",
        "#\n",
        "# The function is expected to return an INTEGER.\n",
        "# The function accepts following parameters:\n",
        "#  1. INTEGER k\n",
        "#  2. INTEGER_ARRAY height\n",
        "#\n",
        "\n",
        "def hurdleRace(k, height):\n",
        "    # Write your code here\n",
        "    rem = []\n",
        "    for i in height:\n",
        "        if k<i:\n",
        "            rem.append(i-k)\n",
        "    if len(rem)==0:\n",
        "        return 0\n",
        "    else:\n",
        "        return max(rem)\n",
        "\n",
        "if __name__ == '__main__':\n",
        "    fptr = open(os.environ['OUTPUT_PATH'], 'w')\n",
        "\n",
        "    first_multiple_input = input().rstrip().split()\n",
        "\n",
        "    n = int(first_multiple_input[0])\n",
        "\n",
        "    k = int(first_multiple_input[1])\n",
        "\n",
        "    height = list(map(int, input().rstrip().split()))\n",
        "\n",
        "    result = hurdleRace(k, height)\n",
        "\n",
        "    fptr.write(str(result) + '\\n')\n",
        "\n",
        "    fptr.close()"
      ],
      "metadata": {
        "id": "b-3k7a58z4ap"
      },
      "execution_count": null,
      "outputs": []
    }
  ]
}