{
  "nbformat": 4,
  "nbformat_minor": 0,
  "metadata": {
    "colab": {
      "name": "ALG10_Time Conversion.ipynb",
      "provenance": [],
      "collapsed_sections": []
    },
    "kernelspec": {
      "name": "python3",
      "display_name": "Python 3"
    },
    "language_info": {
      "name": "python"
    }
  },
  "cells": [
    {
      "cell_type": "markdown",
      "metadata": {
        "id": "dfs6P8nVxoDt"
      },
      "source": [
        "Problem Link\n",
        "\n",
        "https://www.hackerrank.com/challenges/time-conversion/problem"
      ]
    },
    {
      "cell_type": "markdown",
      "metadata": {
        "id": "jptNv0_usmUY"
      },
      "source": [
        "![](https://drive.google.com/uc?id=1DzjDeDWKKIlSnHtF1gTDpO6XolSIVh-i)"
      ]
    },
    {
      "cell_type": "code",
      "metadata": {
        "id": "72KSzMMOLILy"
      },
      "source": [
        "#!/bin/python3\n",
        "\n",
        "import math\n",
        "import os\n",
        "import random\n",
        "import re\n",
        "import sys\n",
        "\n",
        "#\n",
        "# Complete the 'timeConversion' function below.\n",
        "#\n",
        "# The function is expected to return a STRING.\n",
        "# The function accepts STRING s as parameter.\n",
        "#\n",
        "\n",
        "def timeConversion(s):\n",
        "    # Write your code here\n",
        "    mer = s[-2:]\n",
        "    if mer == 'PM' and s[:2]!='12':\n",
        "        s = str(12 + int(s[:2]))+s[2:]\n",
        "    if mer == 'AM' and s[:2]=='12':\n",
        "        s = '00'+s[2:]\n",
        "    return s[:-2]\n",
        "\n",
        "if __name__ == '__main__':\n",
        "    fptr = open(os.environ['OUTPUT_PATH'], 'w')\n",
        "\n",
        "    s = input()\n",
        "\n",
        "    result = timeConversion(s)\n",
        "\n",
        "    fptr.write(result + '\\n')\n",
        "\n",
        "    fptr.close()\n"
      ],
      "execution_count": null,
      "outputs": []
    }
  ]
}