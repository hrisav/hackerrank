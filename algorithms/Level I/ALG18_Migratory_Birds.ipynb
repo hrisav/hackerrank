{
  "nbformat": 4,
  "nbformat_minor": 0,
  "metadata": {
    "colab": {
      "name": "ALG18_Migratory Birds.ipynb",
      "provenance": [],
      "collapsed_sections": []
    },
    "kernelspec": {
      "name": "python3",
      "display_name": "Python 3"
    },
    "language_info": {
      "name": "python"
    }
  },
  "cells": [
    {
      "cell_type": "markdown",
      "source": [
        "Problem Link\n",
        "\n",
        "https://www.hackerrank.com/challenges/migratory-birds/problem"
      ],
      "metadata": {
        "id": "dzlz0prazvy2"
      }
    },
    {
      "cell_type": "code",
      "source": [
        "#!/bin/python3\n",
        "\n",
        "import math\n",
        "import os\n",
        "import random\n",
        "import re\n",
        "import sys\n",
        "\n",
        "#\n",
        "# Complete the 'migratoryBirds' function below.\n",
        "#\n",
        "# The function is expected to return an INTEGER.\n",
        "# The function accepts INTEGER_ARRAY arr as parameter.\n",
        "#\n",
        "\n",
        "def migratoryBirds(arr):\n",
        "    # Write your code here\n",
        "    t1=t2=t3=t4=t5=0\n",
        "    for i in range(len(arr)):\n",
        "        if arr[i] == 1:\n",
        "            t1+=1\n",
        "        if arr[i] == 2:\n",
        "            t2+=1\n",
        "        if arr[i] == 3:\n",
        "            t3+=1\n",
        "        if arr[i] == 4:\n",
        "            t4+=1\n",
        "        if arr[i] == 5:\n",
        "            t5+=1\n",
        "    final = [t1]+[t2]+[t3]+[t4]+[t5]\n",
        "    max_num = max(final)\n",
        "    for i in range(len(final)):\n",
        "        if max_num == final[i]:\n",
        "            res=i+1\n",
        "            break\n",
        "    return res\n",
        "\n",
        "if __name__ == '__main__':\n",
        "    fptr = open(os.environ['OUTPUT_PATH'], 'w')\n",
        "\n",
        "    arr_count = int(input().strip())\n",
        "\n",
        "    arr = list(map(int, input().rstrip().split()))\n",
        "\n",
        "    result = migratoryBirds(arr)\n",
        "\n",
        "    fptr.write(str(result) + '\\n')\n",
        "\n",
        "    fptr.close()"
      ],
      "metadata": {
        "id": "b-3k7a58z4ap"
      },
      "execution_count": null,
      "outputs": []
    }
  ]
}