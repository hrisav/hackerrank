{
  "nbformat": 4,
  "nbformat_minor": 0,
  "metadata": {
    "colab": {
      "name": "ALG03_Compare the Triplets.ipynb",
      "provenance": []
    },
    "kernelspec": {
      "name": "python3",
      "display_name": "Python 3"
    },
    "language_info": {
      "name": "python"
    }
  },
  "cells": [
    {
      "cell_type": "markdown",
      "metadata": {
        "id": "dfs6P8nVxoDt"
      },
      "source": [
        "Problem Link\n",
        "\n",
        "https://www.hackerrank.com/challenges/compare-the-triplets/problem"
      ]
    },
    {
      "cell_type": "markdown",
      "metadata": {
        "id": "59cLF9P9QT8M"
      },
      "source": [
        "![](https://drive.google.com/uc?id=18ZENFUQDmfdAaoQHlJZ6Ao160TEyxxOr)"
      ]
    },
    {
      "cell_type": "markdown",
      "metadata": {
        "id": "myPaoSYMQT2E"
      },
      "source": [
        "![](https://drive.google.com/uc?id=1PPXJlfScTUA36rYMY-KqszJXxtfxWw-4)"
      ]
    },
    {
      "cell_type": "markdown",
      "metadata": {
        "id": "982J9q3jQT5L"
      },
      "source": [
        "![](https://drive.google.com/uc?id=1tjbdJq9x4StfcqcxqMHCwo0X_DeNc2Tb)"
      ]
    },
    {
      "cell_type": "code",
      "metadata": {
        "id": "72KSzMMOLILy"
      },
      "source": [
        "#!/bin/python3\n",
        "\n",
        "import math\n",
        "import os\n",
        "import random\n",
        "import re\n",
        "import sys\n",
        "\n",
        "#\n",
        "# Complete the 'compareTriplets' function below.\n",
        "#\n",
        "# The function is expected to return an INTEGER_ARRAY.\n",
        "# The function accepts following parameters:\n",
        "#  1. INTEGER_ARRAY a\n",
        "#  2. INTEGER_ARRAY b\n",
        "#\n",
        "\n",
        "def compareTriplets(a, b):\n",
        "    # Write your code here\n",
        "    alice = bob = 0\n",
        "    for i in range(len(b)):\n",
        "        if a[i]>b[i]:\n",
        "            alice+=1\n",
        "        elif b[i]>a[i]:\n",
        "            bob+=1\n",
        "    return (alice,bob)\n",
        "            \n",
        "    \n",
        "\n",
        "if __name__ == '__main__':\n",
        "    fptr = open(os.environ['OUTPUT_PATH'], 'w')\n",
        "\n",
        "    a = list(map(int, input().rstrip().split()))\n",
        "\n",
        "    b = list(map(int, input().rstrip().split()))\n",
        "\n",
        "    result = compareTriplets(a, b)\n",
        "\n",
        "    fptr.write(' '.join(map(str, result)))\n",
        "    fptr.write('\\n')\n",
        "\n",
        "    fptr.close()"
      ],
      "execution_count": null,
      "outputs": []
    }
  ]
}